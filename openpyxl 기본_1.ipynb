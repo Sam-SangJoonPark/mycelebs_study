{
 "cells": [
  {
   "cell_type": "markdown",
   "metadata": {},
   "source": [
    "## Openpyxl 쓰는법을 알아보자!!!! 기본!!!!!"
   ]
  },
  {
   "cell_type": "markdown",
   "metadata": {},
   "source": [
    "# excel 파일 that contains a minimum of one sheet 를 workbook이라고 부른다 \n",
    "\n",
    " - 워크북(엑셀파일) 생성! \n",
    " - 워크북에 원하는 내용 쓰기! \n",
    " - 워크북 저장!"
   ]
  },
  {
   "cell_type": "markdown",
   "metadata": {},
   "source": [
    "# 생성하기"
   ]
  },
  {
   "cell_type": "code",
   "execution_count": 83,
   "metadata": {},
   "outputs": [],
   "source": [
    "# openpyxl 라이브러리에서 Workbook 가져와야함\n",
    "from openpyxl import Workbook\n",
    "# Workbook을 생성해야. create workbook. this is an object \n",
    "wb = Workbook()\n",
    "# 저장하기. 원하면 경로지정도 해서 가능\n",
    "wb.save(\"demo.xlsx\")"
   ]
  },
  {
   "cell_type": "code",
   "execution_count": 86,
   "metadata": {},
   "outputs": [],
   "source": [
    "# 이제 어떤 sheet를 건드릴지를 specify 해야함 \n",
    "sheet = wb.active\n",
    "## 만약에 worksheet가 여러개면, sheet = wb['SheetName'] 이렇게. 그 sheet는 엑셀 파일 안의 여러 시트들임"
   ]
  },
  {
   "cell_type": "code",
   "execution_count": 89,
   "metadata": {},
   "outputs": [],
   "source": [
    "# A 칼럼의 1 행\n",
    "sheet['A1'] = 'Software Testing Help check'"
   ]
  },
  {
   "cell_type": "code",
   "execution_count": 90,
   "metadata": {},
   "outputs": [],
   "source": [
    "# 이런 방식도 있음\n",
    "sheet.cell(row=4, column=2).value = 'Openpyxl Tutorial check'"
   ]
  },
  {
   "cell_type": "code",
   "execution_count": 91,
   "metadata": {},
   "outputs": [],
   "source": [
    "# 저장해주어야함!\n",
    "wb.save('demo.xlsx')"
   ]
  },
  {
   "cell_type": "markdown",
   "metadata": {},
   "source": [
    "## Load 해보자 !  \n",
    " - 불러와서 값을 추가해보기~!"
   ]
  },
  {
   "cell_type": "code",
   "execution_count": 92,
   "metadata": {},
   "outputs": [],
   "source": [
    "from openpyxl import load_workbook\n",
    "wb = load_workbook(\"demo.xlsx\")  # 있던 엑셀파일 가져온다 !"
   ]
  },
  {
   "cell_type": "code",
   "execution_count": 94,
   "metadata": {},
   "outputs": [],
   "source": [
    "# 오케이 그러니깐 그 엑셀파일 안에서 시트를 선택!\n",
    "sheet = wb['Sheet']"
   ]
  },
  {
   "cell_type": "code",
   "execution_count": 97,
   "metadata": {},
   "outputs": [],
   "source": [
    "# 그 시트 안에서 행과열에 값을 넣어주는 방법!\n",
    "sheet['A1'] = 'Software Testing Help'"
   ]
  },
  {
   "cell_type": "code",
   "execution_count": 103,
   "metadata": {},
   "outputs": [],
   "source": [
    "sheet.cell(row=2, column=2).value = 13.4\n",
    "sheet['B1'] = 10"
   ]
  },
  {
   "cell_type": "code",
   "execution_count": 106,
   "metadata": {},
   "outputs": [],
   "source": [
    "# 저장해주어야 반영이 됨!\n",
    "wb.save('demo.xlsx')"
   ]
  },
  {
   "cell_type": "markdown",
   "metadata": {},
   "source": [
    "# 한 방에 쓰면 이렇게 된다 - (load 정리)"
   ]
  },
  {
   "cell_type": "code",
   "execution_count": 116,
   "metadata": {},
   "outputs": [],
   "source": [
    "# sample_yeah.xlsx는 원래 만들어 놓은 파일임\n",
    "wb = load_workbook('sample_yeah.xlsx')\n",
    "sheet = wb['Sheet']    # Sheet 이름은 Sheet1일수도 있고, 파일마다 다르다~!\n",
    "sheet['A1'] = '아하 이렇게 하는구먼'\n",
    "sheet.cell(row=2, column=1).value = '이렇게도 가능하구몬'\n",
    "wb.save('sample_yeah.xlsx')   # 저장하면 바뀌어있음"
   ]
  },
  {
   "cell_type": "markdown",
   "metadata": {},
   "source": [
    "# 이번엔 sheet의 이름을 바꾸어보자! \n",
    " - 현재시간으로 sheet name을 저장하고 싶다면 ?\n",
    " "
   ]
  },
  {
   "cell_type": "code",
   "execution_count": 122,
   "metadata": {},
   "outputs": [],
   "source": [
    "# 일단 datetime 쓰기 위해\n",
    "from datetime import datetime\n",
    "\n",
    "# now()는 current date, time을 줄 것임!\n",
    "# 또 strftime()  method는 string으로 줄 것임!\n",
    "now = datetime.now()\n",
    "date_time = now.strftime(\"%d.%m.%Y\")"
   ]
  },
  {
   "cell_type": "markdown",
   "metadata": {},
   "source": [
    "## sheet이름 바꾸려면 'title'써야!|"
   ]
  },
  {
   "cell_type": "code",
   "execution_count": 125,
   "metadata": {},
   "outputs": [],
   "source": [
    "sheet.title = date_time\n",
    "wb.save(\"demo.xlsx\")\n",
    "# ok 완료"
   ]
  },
  {
   "cell_type": "markdown",
   "metadata": {},
   "source": [
    "# 이것도 한방에 쓰면 이리 됨 -(sheet이름 정리)"
   ]
  },
  {
   "cell_type": "code",
   "execution_count": 132,
   "metadata": {},
   "outputs": [],
   "source": [
    "from openpyxl import load_workbook\n",
    "wb = load_workbook(\"demo.xlsx\")\n",
    "sheet = wb['Sheet2']    # 내가 원하는 sheet이름 쓰면 됨.\n",
    "sheet.title =  'sheet는 이렇게 바꿈'\n",
    "wb.save('demo.xlsx')"
   ]
  },
  {
   "cell_type": "markdown",
   "metadata": {},
   "source": [
    "## 해당 시간으로 sheet이름 설정하기 ㅇㅇ"
   ]
  },
  {
   "cell_type": "code",
   "execution_count": 7,
   "metadata": {},
   "outputs": [],
   "source": [
    "from datetime import datetime\n",
    "from openpyxl import load_workbook\n",
    "# load the workbook\n",
    "wb = load_workbook('demo.xlsx')\n",
    "sheet = wb.active\n",
    "now = datetime.now()\n",
    "date_time = now.strftime(\"%d.%m.%Y\")\n",
    "sheet.title = date_time\n",
    "wb.save(\"demo.xlsx\")"
   ]
  },
  {
   "cell_type": "code",
   "execution_count": null,
   "metadata": {},
   "outputs": [],
   "source": []
  },
  {
   "cell_type": "markdown",
   "metadata": {},
   "source": [
    "## Sheet를 추가하기  - create_sheet"
   ]
  },
  {
   "cell_type": "code",
   "execution_count": null,
   "metadata": {},
   "outputs": [],
   "source": [
    "create_sheet(title=None, index = None)\n",
    "# title은 title of the sheet 이고 index는 sheet가 몇 번째에 inserted될지! 만약 index없으면 그냥 맨 뒤로"
   ]
  },
  {
   "cell_type": "markdown",
   "metadata": {},
   "source": [
    "## Sheet 추가하기 예시 코드"
   ]
  },
  {
   "cell_type": "code",
   "execution_count": 10,
   "metadata": {},
   "outputs": [
    {
     "data": {
      "text/plain": [
       "<Worksheet \"Day2 Result 23.11.2020\">"
      ]
     },
     "execution_count": 10,
     "metadata": {},
     "output_type": "execute_result"
    }
   ],
   "source": [
    "sheetname = \"Day2 Result \" + now.strftime(\"%d.%m.%Y\")\n",
    "# Add new sheet using the index and title fields!\n",
    "wb.create_sheet(index=1, title=sheetname)"
   ]
  },
  {
   "cell_type": "code",
   "execution_count": 13,
   "metadata": {},
   "outputs": [],
   "source": [
    "from datetime import datetime\n",
    "from openpyxl import load_workbook\n",
    "wb = load_workbook(\"demo.xlsx\")\n",
    "sheet = wb.active\n",
    "now = datetime.now()\n",
    "date_time = now.strftime(\"%d.%m.%Y\")\n",
    "sheet.title = date_time\n",
    "sheetname = \"Day2 Result \" + date_time\n",
    "## 이부분 !!  인덱스는 0부터 셈. 그래서 인덱스 3이면 4번째에 새로운 시트가 들어감\n",
    "wb.create_sheet(index = 3, title =sheetname)\n",
    "wb.save(\"demo.xlsx\")"
   ]
  },
  {
   "cell_type": "code",
   "execution_count": null,
   "metadata": {},
   "outputs": [],
   "source": []
  },
  {
   "cell_type": "markdown",
   "metadata": {},
   "source": [
    "## 값을 넣어보자 - Appending Multiple values into sheet"
   ]
  },
  {
   "cell_type": "markdown",
   "metadata": {},
   "source": [
    "append(iterable) 쓴다 !"
   ]
  },
  {
   "cell_type": "code",
   "execution_count": 18,
   "metadata": {},
   "outputs": [],
   "source": [
    "# ex\n",
    "from openpyxl import load_workbook\n",
    "wb = load_workbook(\"demo.xlsx\")\n",
    "# 어떤 시트에 작업할 것인지 언급\n",
    "sheet = wb[\"Day2 Result 23.11.2020\"]\n",
    "\n",
    "# Assign multiple values to data. - 왼쪽 위부터 차례로 3 x 3 맞춰서 들어갔음.\n",
    "data = [('Emp Id', 'Emp Name', 'Designation'), \n",
    "       (1, 'XYZ', 'Manager'),\n",
    "       (2, 'ABC', 'Consultant')]\n",
    "\n",
    "for i in data :\n",
    "    sheet.append(i)\n",
    "wb.save(\"demo.xlsx\")"
   ]
  },
  {
   "cell_type": "markdown",
   "metadata": {},
   "source": [
    "## sheet 삭제하기 \n",
    " - wb.remove(sheetname) 이나 del wb[sheetname] 이렇게 하면 된다!"
   ]
  },
  {
   "cell_type": "code",
   "execution_count": null,
   "metadata": {},
   "outputs": [],
   "source": []
  },
  {
   "cell_type": "markdown",
   "metadata": {},
   "source": [
    "# Read data from excel file - 엑셀 읽어오기 !!"
   ]
  },
  {
   "cell_type": "code",
   "execution_count": 36,
   "metadata": {},
   "outputs": [
    {
     "name": "stdout",
     "output_type": "stream",
     "text": [
      "A1 =   Emp Id\n",
      "A2 =   1\n"
     ]
    }
   ],
   "source": [
    "from openpyxl import load_workbook\n",
    "wb = load_workbook(\"demo.xlsx\")\n",
    "sheet = wb.active\n",
    "dataAtA1 = sheet['A1']      # 보니까 active 하고나서 시트 지정을 안 하면 맨 처음 시트인것 같다 \n",
    "dataAtA2 = sheet.cell(row=2, column=1)\n",
    "print(\"A1 =  \", dataAtA1.value)\n",
    "print(\"A2 =  \", dataAtA2.value)"
   ]
  },
  {
   "cell_type": "code",
   "execution_count": null,
   "metadata": {},
   "outputs": [],
   "source": []
  },
  {
   "cell_type": "code",
   "execution_count": null,
   "metadata": {},
   "outputs": [],
   "source": []
  },
  {
   "cell_type": "code",
   "execution_count": 135,
   "metadata": {},
   "outputs": [
    {
     "data": {
      "text/plain": [
       "'https://www.softwaretestinghelp.com/python-openpyxl-tutorial/'"
      ]
     },
     "execution_count": 135,
     "metadata": {},
     "output_type": "execute_result"
    }
   ],
   "source": [
    "\"https://www.softwaretestinghelp.com/python-openpyxl-tutorial/\"\n",
    "# Rename the Sheet 부분부터 하면 됨"
   ]
  },
  {
   "cell_type": "code",
   "execution_count": null,
   "metadata": {},
   "outputs": [],
   "source": []
  }
 ],
 "metadata": {
  "kernelspec": {
   "display_name": "Python 3",
   "language": "python",
   "name": "python3"
  },
  "language_info": {
   "codemirror_mode": {
    "name": "ipython",
    "version": 3
   },
   "file_extension": ".py",
   "mimetype": "text/x-python",
   "name": "python",
   "nbconvert_exporter": "python",
   "pygments_lexer": "ipython3",
   "version": "3.7.6"
  }
 },
 "nbformat": 4,
 "nbformat_minor": 4
}
